{
 "cells": [
  {
   "cell_type": "code",
   "execution_count": null,
   "id": "1790f584",
   "metadata": {},
   "outputs": [],
   "source": [
    "# pip install mysql-connector"
   ]
  },
  {
   "cell_type": "code",
   "execution_count": 2,
   "id": "62ae3256",
   "metadata": {},
   "outputs": [],
   "source": [
    "import mysql.connector\n",
    "\n",
    "db = mysql.connector.connect(\n",
    "    host=\"salomontruzman\",\n",
    "    user=\"postgres\",\n",
    "    password=\"\",\n",
    "    database=\"Breast_Cancer_Final_Project\")\n",
    "\n",
    "mycursor = db.cursor()\n",
    "mycursor.execute('SELECT * FROM Breast_Cancer_Final_Project')"
   ]
  },
  {
   "cell_type": "code",
   "execution_count": null,
   "id": "d14dfd6b",
   "metadata": {},
   "outputs": [],
   "source": []
  }
 ],
 "metadata": {
  "kernelspec": {
   "display_name": "Python 3 (ipykernel)",
   "language": "python",
   "name": "python3"
  },
  "language_info": {
   "codemirror_mode": {
    "name": "ipython",
    "version": 3
   },
   "file_extension": ".py",
   "mimetype": "text/x-python",
   "name": "python",
   "nbconvert_exporter": "python",
   "pygments_lexer": "ipython3",
   "version": "3.9.12"
  }
 },
 "nbformat": 4,
 "nbformat_minor": 5
}
